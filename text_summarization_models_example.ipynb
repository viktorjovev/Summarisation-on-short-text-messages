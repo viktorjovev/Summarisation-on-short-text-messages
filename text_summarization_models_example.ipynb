{
  "nbformat": 4,
  "nbformat_minor": 0,
  "metadata": {
    "colab": {
      "name": "text-summarization-models-example.ipynb",
      "provenance": [],
      "collapsed_sections": []
    },
    "kernelspec": {
      "name": "python3",
      "display_name": "Python 3"
    },
    "accelerator": "TPU"
  },
  "cells": [
    {
      "cell_type": "code",
      "metadata": {
        "id": "BsBUDmRKvNQ5"
      },
      "source": [
        "#Here is the data(our city story) who we use to summarize with our first models\r\n",
        "data = [\"Veles is one of few Slavic gods for which evidence of offerings can be found in all Slavic nations.\",\r\n",
        "  \"The Primary Chronicle, a historical record of the early Kievan Rus, is the earliest and most important record,\\\r\n",
        "   mentioning a god named Volos several times. \",\"Here, Volos is mentioned as god of cattle and peasants, who will punish \\\r\n",
        "   oath-breakers with diseases, the opposite of Perun who is described as a ruling god of war who punishes by death in battle.\",\r\n",
        "   \"In the later half of the 10th century, Veles or Volos was one of seven gods whose statues Vladimir I of Kiev had erected in his city. \\\r\n",
        "   It is very interesting that Veles statue apparently did not stand next to others, on the hill where the princes \\\r\n",
        "   castle was, but lower in the city, in the marketplace.\",\"Not only does this indicate that Veles was \\\r\n",
        "   connected with commerce, but it also shows that worship of Perun and Veles had to be kept separate: while it was proper\\\r\n",
        "    for Peruns shrines to be built high, on the top of the hill, Veles place was down, in the lowlands.\\\r\n",
        "    A similar pattern can be observed among the South Slavs.\",\" Here the name of Veles appears only in \\\r\n",
        "    toponyms, the best-known of which is the city of Veles in Macedonia, over which looms a hill of St.\\\r\n",
        "    Elias the Thunderer. Also, in Bosnia and Herzegovina, a part of Sarajevo is called Velešići and a mountain Velež\\\r\n",
        "    near Mostar, Herzegovina.\",\" Other examples are Veles in Western Serbia, Velesnica on the Danube and Velestovo in Montenegro \\\r\n",
        "    and also the township of Velestino (Βελεστίνο, today Φέρες), apparently bearing testimony to a Slavic layer in the settlement\\\r\n",
        "     of Thessaly. Another debatable if not improbable example is the town of Volosko in Croatia, situated on the seashore \\\r\n",
        "     under the peak of Mount Učka, nicknamed Perun.\",\r\n",
        "    \"Among Western Slavs, the name can be principally found in 15th and \\\r\n",
        "    16th century Czech records, where it means either dragon or devil.\"]"
      ],
      "execution_count": 1,
      "outputs": []
    },
    {
      "cell_type": "code",
      "metadata": {
        "id": "jJJkJ2Cj5Tem"
      },
      "source": [
        "#data preparation\r\n",
        "text = \" \".join(data)"
      ],
      "execution_count": 2,
      "outputs": []
    },
    {
      "cell_type": "code",
      "metadata": {
        "id": "eFdWL7Z9zKsV"
      },
      "source": [
        "#imports\r\n",
        "!pip install transformers\r\n",
        "!pip install sentencepiece\r\n",
        "!pip install bert-extractive-summarizer \r\n",
        "from transformers import T5Tokenizer, T5ForConditionalGeneration\r\n",
        "from summarizer import TransformerSummarizer\r\n",
        "import re"
      ],
      "execution_count": 3,
      "outputs": []
    },
    {
      "cell_type": "code",
      "metadata": {
        "id": "DaHdekRlBBEk"
      },
      "source": [
        "#we are using this models for example\r\n",
        "#to introduce in text-summarization and\r\n",
        "#have some exercises for text-summarization\r\n",
        "\r\n",
        "#we will expand this all for the next tasks"
      ],
      "execution_count": 4,
      "outputs": []
    },
    {
      "cell_type": "code",
      "metadata": {
        "id": "C9xe78Z4wWdz",
        "colab": {
          "base_uri": "https://localhost:8080/"
        },
        "outputId": "a9aabcfd-74c3-4c3e-84ce-9e938ade5761"
      },
      "source": [
        "#First model example (pretrained T5 model)\r\n",
        "#more for T5 -> https://huggingface.co/transformers/model_doc/t5.html#:~:text=T5%20is%20an%20encoder%2Ddecoder,text%2Dto%2Dtext%20format.\r\n",
        "\r\n",
        "#load pretrained model\r\n",
        "model = T5ForConditionalGeneration.from_pretrained('t5-base')\r\n",
        "\r\n",
        "#load and tokenizer because we have text data and need to tokenize it and then use for input in model\r\n",
        "tokenizer = T5Tokenizer.from_pretrained('t5-base')\r\n",
        "\r\n",
        "#data tokenization\r\n",
        "preprocessed_text = \"summarize: \"+text\r\n",
        "tokens_input = tokenizer.encode(preprocessed_text, \r\n",
        "                                return_tensors=\"pt\", \r\n",
        "                                max_length=512, \r\n",
        "                                truncation=True) #tokenization of text\r\n",
        "\r\n",
        "#using model for summarization\r\n",
        "summary_ids = model.generate(tokens_input,\r\n",
        "                             min_length=32, \r\n",
        "                             max_length=512, \r\n",
        "                             length_penalty=4.0) #sending tokens_input to model (tokens_input is text data who is tokenized and now model\r\n",
        "                                                                        #can understand text and make summarization, output of model will be\r\n",
        "                                                                            #tokens too, next we need to decode tokens to text)\r\n",
        "#decoding tokens phrase\r\n",
        "summary = tokenizer.decode(summary_ids[0])\r\n",
        "print(summary)"
      ],
      "execution_count": 11,
      "outputs": [
        {
          "output_type": "stream",
          "text": [
            "<pad> a history of the early Kievan Rus mentions a god named Volos. the name of the god is a common name among the south slavs. the name of the god is also found in the earliest records of the era.</s>\n"
          ],
          "name": "stdout"
        }
      ]
    },
    {
      "cell_type": "code",
      "metadata": {
        "id": "WLO-r9U53FFU",
        "colab": {
          "base_uri": "https://localhost:8080/"
        },
        "outputId": "1bd66985-c4e6-4c7f-cd08-8dc38701b519"
      },
      "source": [
        "#Second model example (GPT-2 pretrained model)\r\n",
        "\r\n",
        "#load model\r\n",
        "model = TransformerSummarizer(transformer_type=\"GPT2\",\r\n",
        "                              transformer_model_key=\"gpt2-medium\")\r\n",
        "\r\n",
        "#using model for summarization\r\n",
        "summary = ''.join(model(text, min_length=32, max_length=512))\r\n",
        "print(summary)"
      ],
      "execution_count": 9,
      "outputs": [
        {
          "output_type": "stream",
          "text": [
            "Some weights of GPT2Model were not initialized from the model checkpoint at gpt2-medium and are newly initialized: ['h.0.attn.masked_bias', 'h.1.attn.masked_bias', 'h.2.attn.masked_bias', 'h.3.attn.masked_bias', 'h.4.attn.masked_bias', 'h.5.attn.masked_bias', 'h.6.attn.masked_bias', 'h.7.attn.masked_bias', 'h.8.attn.masked_bias', 'h.9.attn.masked_bias', 'h.10.attn.masked_bias', 'h.11.attn.masked_bias', 'h.12.attn.masked_bias', 'h.13.attn.masked_bias', 'h.14.attn.masked_bias', 'h.15.attn.masked_bias', 'h.16.attn.masked_bias', 'h.17.attn.masked_bias', 'h.18.attn.masked_bias', 'h.19.attn.masked_bias', 'h.20.attn.masked_bias', 'h.21.attn.masked_bias', 'h.22.attn.masked_bias', 'h.23.attn.masked_bias']\n",
            "You should probably TRAIN this model on a down-stream task to be able to use it for predictions and inference.\n"
          ],
          "name": "stderr"
        },
        {
          "output_type": "stream",
          "text": [
            "Veles is one of few Slavic gods for which evidence of offerings can be found in all Slavic nations. Other examples are Veles in Western Serbia, Velesnica on the Danube and Velestovo in Montenegro     and also the township of Velestino (Βελεστίνο, today Φέρες), apparently bearing testimony to a Slavic layer in the settlement     of Thessaly.\n"
          ],
          "name": "stdout"
        }
      ]
    },
    {
      "cell_type": "code",
      "metadata": {
        "colab": {
          "base_uri": "https://localhost:8080/"
        },
        "id": "hNCZbHLk8vz4",
        "outputId": "bcf132df-cafe-49ec-ec0c-e0da4c34c168"
      },
      "source": [
        "#Third model example (XLNet pretrained model)\r\n",
        "\r\n",
        "#load model\r\n",
        "model = TransformerSummarizer(transformer_type=\"XLNet\",\r\n",
        "                              transformer_model_key=\"xlnet-base-cased\")\r\n",
        "\r\n",
        "#using model for summarization\r\n",
        "summary = ''.join(model(text, min_length=32, max_length=512))\r\n",
        "print(summary)"
      ],
      "execution_count": 10,
      "outputs": [
        {
          "output_type": "stream",
          "text": [
            "Veles is one of few Slavic gods for which evidence of offerings can be found in all Slavic nations. Other examples are Veles in Western Serbia, Velesnica on the Danube and Velestovo in Montenegro     and also the township of Velestino (Βελεστίνο, today Φέρες), apparently bearing testimony to a Slavic layer in the settlement     of Thessaly. Among Western Slavs, the name can be principally found in 15th and     16th century Czech records, where it means either dragon or devil.\n"
          ],
          "name": "stdout"
        }
      ]
    }
  ]
}