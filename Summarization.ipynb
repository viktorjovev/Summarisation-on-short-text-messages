{
  "nbformat": 4,
  "nbformat_minor": 0,
  "metadata": {
    "colab": {
      "name": "Summarization.ipynb",
      "provenance": [],
      "collapsed_sections": []
    },
    "kernelspec": {
      "name": "python3",
      "display_name": "Python 3"
    }
  },
  "cells": [
    {
      "cell_type": "code",
      "metadata": {
        "id": "6i8lUviy4PwH"
      },
      "source": [
        "!pip install transformers"
      ],
      "execution_count": null,
      "outputs": []
    },
    {
      "cell_type": "code",
      "metadata": {
        "id": "Fye-tRiOz0RA"
      },
      "source": [
        "import pandas as pd\r\n",
        "import numpy as np\r\n",
        "from sklearn.decomposition import PCA\r\n",
        "from absl import logging\r\n",
        "from sklearn.cluster import KMeans\r\n",
        "import tensorflow as tf\r\n",
        "import tensorflow_hub as hub\r\n",
        "import matplotlib.pyplot as plt\r\n",
        "import seaborn as sns\r\n",
        "import os\r\n",
        "import re"
      ],
      "execution_count": 70,
      "outputs": []
    },
    {
      "cell_type": "code",
      "metadata": {
        "colab": {
          "base_uri": "https://localhost:8080/",
          "height": 1000
        },
        "id": "dKL4x8t10Vf9",
        "outputId": "8f585250-3ae9-44e6-ee97-2f9f56f5bb5f"
      },
      "source": [
        "data = pd.read_csv('/content/drive/MyDrive/SummarizationData/Tweets.csv')\r\n",
        "data"
      ],
      "execution_count": 71,
      "outputs": [
        {
          "output_type": "execute_result",
          "data": {
            "text/html": [
              "<div>\n",
              "<style scoped>\n",
              "    .dataframe tbody tr th:only-of-type {\n",
              "        vertical-align: middle;\n",
              "    }\n",
              "\n",
              "    .dataframe tbody tr th {\n",
              "        vertical-align: top;\n",
              "    }\n",
              "\n",
              "    .dataframe thead th {\n",
              "        text-align: right;\n",
              "    }\n",
              "</style>\n",
              "<table border=\"1\" class=\"dataframe\">\n",
              "  <thead>\n",
              "    <tr style=\"text-align: right;\">\n",
              "      <th></th>\n",
              "      <th>Tweet:</th>\n",
              "    </tr>\n",
              "  </thead>\n",
              "  <tbody>\n",
              "    <tr>\n",
              "      <th>0</th>\n",
              "      <td>Pi goes a long way at \\n@NASA\\n. It is used to...</td>\n",
              "    </tr>\n",
              "    <tr>\n",
              "      <th>1</th>\n",
              "      <td>While we're all in favor of a little extra pie...</td>\n",
              "    </tr>\n",
              "    <tr>\n",
              "      <th>2</th>\n",
              "      <td>Ready to take math to Mars and beyond on #PiD...</td>\n",
              "    </tr>\n",
              "    <tr>\n",
              "      <th>3</th>\n",
              "      <td>Happy #PiDay! It’s March 14th, or 3.14 – also ...</td>\n",
              "    </tr>\n",
              "    <tr>\n",
              "      <th>4</th>\n",
              "      <td>When we look at a slice of the night sky, 𝞹 (o...</td>\n",
              "    </tr>\n",
              "    <tr>\n",
              "      <th>5</th>\n",
              "      <td>Pi takes us far in space exploration. In fact,...</td>\n",
              "    </tr>\n",
              "    <tr>\n",
              "      <th>6</th>\n",
              "      <td>\"In May last year, I announced the creation of...</td>\n",
              "    </tr>\n",
              "    <tr>\n",
              "      <th>7</th>\n",
              "      <td>\"When we launched the Solidarity Response Fund...</td>\n",
              "    </tr>\n",
              "    <tr>\n",
              "      <th>8</th>\n",
              "      <td>\"The money collected will be used to suppress ...</td>\n",
              "    </tr>\n",
              "    <tr>\n",
              "      <th>9</th>\n",
              "      <td>\"The plan calls for a total requirement of $1....</td>\n",
              "    </tr>\n",
              "    <tr>\n",
              "      <th>10</th>\n",
              "      <td>\"But as you know, the #COVID19 pandemic is not...</td>\n",
              "    </tr>\n",
              "    <tr>\n",
              "      <th>11</th>\n",
              "      <td>Why are you so dogematic, they ask</td>\n",
              "    </tr>\n",
              "    <tr>\n",
              "      <th>12</th>\n",
              "      <td>Doge day afternoon</td>\n",
              "    </tr>\n",
              "    <tr>\n",
              "      <th>13</th>\n",
              "      <td>Origin of Doge Day Afternoon:\\nThe ancient Rom...</td>\n",
              "    </tr>\n",
              "    <tr>\n",
              "      <th>14</th>\n",
              "      <td>BTC (Bitcoin) is an anagram of\\nTBC(The Boring...</td>\n",
              "    </tr>\n",
              "    <tr>\n",
              "      <th>15</th>\n",
              "      <td>Both do mining &amp; use blocks &amp; chains</td>\n",
              "    </tr>\n",
              "    <tr>\n",
              "      <th>16</th>\n",
              "      <td>FSD Beta has now been expanded to ~2000 owners...</td>\n",
              "    </tr>\n",
              "    <tr>\n",
              "      <th>17</th>\n",
              "      <td>Doge spelled backwards is Egod</td>\n",
              "    </tr>\n",
              "    <tr>\n",
              "      <th>18</th>\n",
              "      <td>Falcon 9’s first stage has landed on the Of Co...</td>\n",
              "    </tr>\n",
              "    <tr>\n",
              "      <th>19</th>\n",
              "      <td>Falcon 9 launch of 60 Starlink satellites happ...</td>\n",
              "    </tr>\n",
              "    <tr>\n",
              "      <th>20</th>\n",
              "      <td>Targeting Sunday, March 14 at 6:01 a.m. EDT fo...</td>\n",
              "    </tr>\n",
              "    <tr>\n",
              "      <th>21</th>\n",
              "      <td>Falcon 9’s first stage has landed on the Just ...</td>\n",
              "    </tr>\n",
              "    <tr>\n",
              "      <th>22</th>\n",
              "      <td>Falcon 9 launch of 60 Starlink satellites is t...</td>\n",
              "    </tr>\n",
              "    <tr>\n",
              "      <th>23</th>\n",
              "      <td>Falcon 9’s first stage has landed on the Of Co...</td>\n",
              "    </tr>\n",
              "    <tr>\n",
              "      <th>24</th>\n",
              "      <td>The Biden-Harris Administration has been worki...</td>\n",
              "    </tr>\n",
              "    <tr>\n",
              "      <th>25</th>\n",
              "      <td>This afternoon, I’m joining Vice President Har...</td>\n",
              "    </tr>\n",
              "    <tr>\n",
              "      <th>26</th>\n",
              "      <td>85% of American households will get direct che...</td>\n",
              "    </tr>\n",
              "    <tr>\n",
              "      <th>27</th>\n",
              "      <td>All adult Americans will be eligible to get th...</td>\n",
              "    </tr>\n",
              "    <tr>\n",
              "      <th>28</th>\n",
              "      <td>From $1,400 checks and unemployment relief to ...</td>\n",
              "    </tr>\n",
              "    <tr>\n",
              "      <th>29</th>\n",
              "      <td>Big news: Congress just passed President Biden...</td>\n",
              "    </tr>\n",
              "    <tr>\n",
              "      <th>30</th>\n",
              "      <td>Hey, India. We’re rolling out our new fleet of...</td>\n",
              "    </tr>\n",
              "    <tr>\n",
              "      <th>31</th>\n",
              "      <td>Proud of the program we have in India to hire ...</td>\n",
              "    </tr>\n",
              "    <tr>\n",
              "      <th>32</th>\n",
              "      <td>Amazon partners with thousands of kirana store...</td>\n",
              "    </tr>\n",
              "    <tr>\n",
              "      <th>33</th>\n",
              "      <td>Thank you to our customers who donated relief ...</td>\n",
              "    </tr>\n",
              "    <tr>\n",
              "      <th>34</th>\n",
              "      <td>Nice! Amazon ranked #1 best managed company. D...</td>\n",
              "    </tr>\n",
              "  </tbody>\n",
              "</table>\n",
              "</div>"
            ],
            "text/plain": [
              "                                               Tweet:\n",
              "0   Pi goes a long way at \\n@NASA\\n. It is used to...\n",
              "1   While we're all in favor of a little extra pie...\n",
              "2    Ready to take math to Mars and beyond on #PiD...\n",
              "3   Happy #PiDay! It’s March 14th, or 3.14 – also ...\n",
              "4   When we look at a slice of the night sky, 𝞹 (o...\n",
              "5   Pi takes us far in space exploration. In fact,...\n",
              "6   \"In May last year, I announced the creation of...\n",
              "7   \"When we launched the Solidarity Response Fund...\n",
              "8   \"The money collected will be used to suppress ...\n",
              "9   \"The plan calls for a total requirement of $1....\n",
              "10  \"But as you know, the #COVID19 pandemic is not...\n",
              "11                 Why are you so dogematic, they ask\n",
              "12                                 Doge day afternoon\n",
              "13  Origin of Doge Day Afternoon:\\nThe ancient Rom...\n",
              "14  BTC (Bitcoin) is an anagram of\\nTBC(The Boring...\n",
              "15               Both do mining & use blocks & chains\n",
              "16  FSD Beta has now been expanded to ~2000 owners...\n",
              "17                     Doge spelled backwards is Egod\n",
              "18  Falcon 9’s first stage has landed on the Of Co...\n",
              "19  Falcon 9 launch of 60 Starlink satellites happ...\n",
              "20  Targeting Sunday, March 14 at 6:01 a.m. EDT fo...\n",
              "21  Falcon 9’s first stage has landed on the Just ...\n",
              "22  Falcon 9 launch of 60 Starlink satellites is t...\n",
              "23  Falcon 9’s first stage has landed on the Of Co...\n",
              "24  The Biden-Harris Administration has been worki...\n",
              "25  This afternoon, I’m joining Vice President Har...\n",
              "26  85% of American households will get direct che...\n",
              "27  All adult Americans will be eligible to get th...\n",
              "28  From $1,400 checks and unemployment relief to ...\n",
              "29  Big news: Congress just passed President Biden...\n",
              "30  Hey, India. We’re rolling out our new fleet of...\n",
              "31  Proud of the program we have in India to hire ...\n",
              "32  Amazon partners with thousands of kirana store...\n",
              "33  Thank you to our customers who donated relief ...\n",
              "34  Nice! Amazon ranked #1 best managed company. D..."
            ]
          },
          "metadata": {
            "tags": []
          },
          "execution_count": 71
        }
      ]
    },
    {
      "cell_type": "code",
      "metadata": {
        "id": "52S4NyET1S0D"
      },
      "source": [
        "#data preparation\r\n",
        "data_nparray = np.array(data)\r\n",
        "data_array = []\r\n",
        "for tweet in data_nparray:\r\n",
        "  data_array.append(tweet[0])\r\n",
        "\r\n",
        "data_copy = data_array"
      ],
      "execution_count": 72,
      "outputs": []
    },
    {
      "cell_type": "code",
      "metadata": {
        "id": "Gz_1RrEW1xPO"
      },
      "source": [
        "final_data = []\r\n",
        "for tweet in data_array:\r\n",
        "  tweet = tweet.replace(\"@\",\"\")\r\n",
        "  tweet = tweet.replace('\"',\"\")\r\n",
        "  tweet = tweet.replace(\"\\n\",\"\")\r\n",
        "  tweet = tweet.replace(\"#\",\"\")\r\n",
        "  tweet = tweet.replace(\":\",\"\")\r\n",
        "  tweet = tweet.replace(\"...\",\"\")\r\n",
        "  \r\n",
        "  final_data.append(tweet)"
      ],
      "execution_count": 73,
      "outputs": []
    },
    {
      "cell_type": "code",
      "metadata": {
        "id": "6MTWRbDD3GzL"
      },
      "source": [
        "#embedding data\r\n",
        "emb_model = hub.load(\"https://tfhub.dev/google/universal-sentence-encoder/4\")"
      ],
      "execution_count": null,
      "outputs": []
    },
    {
      "cell_type": "code",
      "metadata": {
        "id": "UzRqvhC74ytN"
      },
      "source": [
        "embedded_final = emb_model(np.array(final_data))\r\n",
        "embedded_final\r\n",
        "\r\n",
        "pca = PCA(2)\r\n",
        "embedded_final_new = pca.fit_transform(embedded_final)"
      ],
      "execution_count": 92,
      "outputs": []
    },
    {
      "cell_type": "code",
      "metadata": {
        "id": "nEbs_YP55lR0"
      },
      "source": [
        "#clustering\r\n",
        "cluster_method = KMeans(3, random_state=1)\r\n",
        "\r\n",
        "final_clusters = cluster_method.fit_predict(embedded_final_new)\r\n",
        "final_clusters_unique = np.unique(final_clusters)\r\n",
        "\r\n",
        "labels = cluster_method.labels_"
      ],
      "execution_count": 100,
      "outputs": []
    },
    {
      "cell_type": "code",
      "metadata": {
        "colab": {
          "base_uri": "https://localhost:8080/",
          "height": 265
        },
        "id": "cqUa2fSe6Lhq",
        "outputId": "05855128-3f08-4319-bd49-03c0adedd83b"
      },
      "source": [
        "for i in final_clusters_unique:\r\n",
        "  plt.scatter(embedded_final_new[final_clusters == i , 0] , embedded_final_new[final_clusters == i , 1] , label = i)\r\n",
        "  \r\n",
        "plt.legend()\r\n",
        "plt.show()"
      ],
      "execution_count": 101,
      "outputs": [
        {
          "output_type": "display_data",
          "data": {
            "image/png": "[encoded data removed]",
            "text/plain": [
              "<Figure size 432x288 with 1 Axes>"
            ]
          },
          "metadata": {
            "tags": [],
            "needs_background": "light"
          }
        }
      ]
    }
  ]
}