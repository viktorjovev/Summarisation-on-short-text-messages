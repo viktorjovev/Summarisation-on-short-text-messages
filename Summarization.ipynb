{
  "nbformat": 4,
  "nbformat_minor": 0,
  "metadata": {
    "colab": {
      "name": "Summarization.ipynb",
      "provenance": [],
      "collapsed_sections": []
    },
    "kernelspec": {
      "name": "python3",
      "display_name": "Python 3"
    }
  },
  "cells": [
    {
      "cell_type": "code",
      "metadata": {
        "id": "4cH_A6Ke1Y9z"
      },
      "source": [
        "from google.colab import drive\n",
        "drive.mount('/content/drive')"
      ],
      "execution_count": null,
      "outputs": []
    },
    {
      "cell_type": "code",
      "metadata": {
        "id": "6i8lUviy4PwH"
      },
      "source": [
        "!pip install transformers"
      ],
      "execution_count": null,
      "outputs": []
    },
    {
      "cell_type": "code",
      "metadata": {
        "id": "Fye-tRiOz0RA"
      },
      "source": [
        "import pandas as pd\n",
        "import numpy as np\n",
        "from sklearn.decomposition import PCA\n",
        "from absl import logging\n",
        "from sklearn.cluster import KMeans\n",
        "import tensorflow as tf\n",
        "import tensorflow_hub as hub\n",
        "import matplotlib.pyplot as plt\n",
        "import seaborn as sns\n",
        "import os\n",
        "import re"
      ],
      "execution_count": 8,
      "outputs": []
    },
    {
      "cell_type": "code",
      "metadata": {
        "colab": {
          "base_uri": "https://localhost:8080/",
          "height": 1000
        },
        "id": "dKL4x8t10Vf9",
        "outputId": "b5330b12-5c19-48e7-80fd-bf2d8da5955a"
      },
      "source": [
        "data = pd.read_csv('/content/drive/MyDrive/SummarizationData/Tweets.csv')\n",
        "data"
      ],
      "execution_count": 9,
      "outputs": [
        {
          "output_type": "execute_result",
          "data": {
            "text/html": [
              "<div>\n",
              "<style scoped>\n",
              "    .dataframe tbody tr th:only-of-type {\n",
              "        vertical-align: middle;\n",
              "    }\n",
              "\n",
              "    .dataframe tbody tr th {\n",
              "        vertical-align: top;\n",
              "    }\n",
              "\n",
              "    .dataframe thead th {\n",
              "        text-align: right;\n",
              "    }\n",
              "</style>\n",
              "<table border=\"1\" class=\"dataframe\">\n",
              "  <thead>\n",
              "    <tr style=\"text-align: right;\">\n",
              "      <th></th>\n",
              "      <th>Tweet:</th>\n",
              "    </tr>\n",
              "  </thead>\n",
              "  <tbody>\n",
              "    <tr>\n",
              "      <th>0</th>\n",
              "      <td>Pi goes a long way at \\n@NASA\\n. It is used to...</td>\n",
              "    </tr>\n",
              "    <tr>\n",
              "      <th>1</th>\n",
              "      <td>While we're all in favor of a little extra pie...</td>\n",
              "    </tr>\n",
              "    <tr>\n",
              "      <th>2</th>\n",
              "      <td>Ready to take math to Mars and beyond on #PiD...</td>\n",
              "    </tr>\n",
              "    <tr>\n",
              "      <th>3</th>\n",
              "      <td>Happy #PiDay! It’s March 14th, or 3.14 – also ...</td>\n",
              "    </tr>\n",
              "    <tr>\n",
              "      <th>4</th>\n",
              "      <td>When we look at a slice of the night sky, 𝞹 (o...</td>\n",
              "    </tr>\n",
              "    <tr>\n",
              "      <th>5</th>\n",
              "      <td>Pi takes us far in space exploration. In fact,...</td>\n",
              "    </tr>\n",
              "    <tr>\n",
              "      <th>6</th>\n",
              "      <td>\"In May last year, I announced the creation of...</td>\n",
              "    </tr>\n",
              "    <tr>\n",
              "      <th>7</th>\n",
              "      <td>\"When we launched the Solidarity Response Fund...</td>\n",
              "    </tr>\n",
              "    <tr>\n",
              "      <th>8</th>\n",
              "      <td>\"The money collected will be used to suppress ...</td>\n",
              "    </tr>\n",
              "    <tr>\n",
              "      <th>9</th>\n",
              "      <td>\"The plan calls for a total requirement of $1....</td>\n",
              "    </tr>\n",
              "    <tr>\n",
              "      <th>10</th>\n",
              "      <td>\"But as you know, the #COVID19 pandemic is not...</td>\n",
              "    </tr>\n",
              "    <tr>\n",
              "      <th>11</th>\n",
              "      <td>Why are you so dogematic, they ask</td>\n",
              "    </tr>\n",
              "    <tr>\n",
              "      <th>12</th>\n",
              "      <td>Doge day afternoon</td>\n",
              "    </tr>\n",
              "    <tr>\n",
              "      <th>13</th>\n",
              "      <td>Origin of Doge Day Afternoon:\\nThe ancient Rom...</td>\n",
              "    </tr>\n",
              "    <tr>\n",
              "      <th>14</th>\n",
              "      <td>BTC (Bitcoin) is an anagram of\\nTBC(The Boring...</td>\n",
              "    </tr>\n",
              "    <tr>\n",
              "      <th>15</th>\n",
              "      <td>Both do mining &amp; use blocks &amp; chains</td>\n",
              "    </tr>\n",
              "    <tr>\n",
              "      <th>16</th>\n",
              "      <td>FSD Beta has now been expanded to ~2000 owners...</td>\n",
              "    </tr>\n",
              "    <tr>\n",
              "      <th>17</th>\n",
              "      <td>Doge spelled backwards is Egod</td>\n",
              "    </tr>\n",
              "    <tr>\n",
              "      <th>18</th>\n",
              "      <td>Falcon 9’s first stage has landed on the Of Co...</td>\n",
              "    </tr>\n",
              "    <tr>\n",
              "      <th>19</th>\n",
              "      <td>Falcon 9 launch of 60 Starlink satellites happ...</td>\n",
              "    </tr>\n",
              "    <tr>\n",
              "      <th>20</th>\n",
              "      <td>Targeting Sunday, March 14 at 6:01 a.m. EDT fo...</td>\n",
              "    </tr>\n",
              "    <tr>\n",
              "      <th>21</th>\n",
              "      <td>Falcon 9’s first stage has landed on the Just ...</td>\n",
              "    </tr>\n",
              "    <tr>\n",
              "      <th>22</th>\n",
              "      <td>Falcon 9 launch of 60 Starlink satellites is t...</td>\n",
              "    </tr>\n",
              "    <tr>\n",
              "      <th>23</th>\n",
              "      <td>Falcon 9’s first stage has landed on the Of Co...</td>\n",
              "    </tr>\n",
              "    <tr>\n",
              "      <th>24</th>\n",
              "      <td>The Biden-Harris Administration has been worki...</td>\n",
              "    </tr>\n",
              "    <tr>\n",
              "      <th>25</th>\n",
              "      <td>This afternoon, I’m joining Vice President Har...</td>\n",
              "    </tr>\n",
              "    <tr>\n",
              "      <th>26</th>\n",
              "      <td>85% of American households will get direct che...</td>\n",
              "    </tr>\n",
              "    <tr>\n",
              "      <th>27</th>\n",
              "      <td>All adult Americans will be eligible to get th...</td>\n",
              "    </tr>\n",
              "    <tr>\n",
              "      <th>28</th>\n",
              "      <td>From $1,400 checks and unemployment relief to ...</td>\n",
              "    </tr>\n",
              "    <tr>\n",
              "      <th>29</th>\n",
              "      <td>Big news: Congress just passed President Biden...</td>\n",
              "    </tr>\n",
              "    <tr>\n",
              "      <th>30</th>\n",
              "      <td>Hey, India. We’re rolling out our new fleet of...</td>\n",
              "    </tr>\n",
              "    <tr>\n",
              "      <th>31</th>\n",
              "      <td>Proud of the program we have in India to hire ...</td>\n",
              "    </tr>\n",
              "    <tr>\n",
              "      <th>32</th>\n",
              "      <td>Amazon partners with thousands of kirana store...</td>\n",
              "    </tr>\n",
              "    <tr>\n",
              "      <th>33</th>\n",
              "      <td>Thank you to our customers who donated relief ...</td>\n",
              "    </tr>\n",
              "    <tr>\n",
              "      <th>34</th>\n",
              "      <td>Nice! Amazon ranked #1 best managed company. D...</td>\n",
              "    </tr>\n",
              "  </tbody>\n",
              "</table>\n",
              "</div>"
            ],
            "text/plain": [
              "                                               Tweet:\n",
              "0   Pi goes a long way at \\n@NASA\\n. It is used to...\n",
              "1   While we're all in favor of a little extra pie...\n",
              "2    Ready to take math to Mars and beyond on #PiD...\n",
              "3   Happy #PiDay! It’s March 14th, or 3.14 – also ...\n",
              "4   When we look at a slice of the night sky, 𝞹 (o...\n",
              "5   Pi takes us far in space exploration. In fact,...\n",
              "6   \"In May last year, I announced the creation of...\n",
              "7   \"When we launched the Solidarity Response Fund...\n",
              "8   \"The money collected will be used to suppress ...\n",
              "9   \"The plan calls for a total requirement of $1....\n",
              "10  \"But as you know, the #COVID19 pandemic is not...\n",
              "11                 Why are you so dogematic, they ask\n",
              "12                                 Doge day afternoon\n",
              "13  Origin of Doge Day Afternoon:\\nThe ancient Rom...\n",
              "14  BTC (Bitcoin) is an anagram of\\nTBC(The Boring...\n",
              "15               Both do mining & use blocks & chains\n",
              "16  FSD Beta has now been expanded to ~2000 owners...\n",
              "17                     Doge spelled backwards is Egod\n",
              "18  Falcon 9’s first stage has landed on the Of Co...\n",
              "19  Falcon 9 launch of 60 Starlink satellites happ...\n",
              "20  Targeting Sunday, March 14 at 6:01 a.m. EDT fo...\n",
              "21  Falcon 9’s first stage has landed on the Just ...\n",
              "22  Falcon 9 launch of 60 Starlink satellites is t...\n",
              "23  Falcon 9’s first stage has landed on the Of Co...\n",
              "24  The Biden-Harris Administration has been worki...\n",
              "25  This afternoon, I’m joining Vice President Har...\n",
              "26  85% of American households will get direct che...\n",
              "27  All adult Americans will be eligible to get th...\n",
              "28  From $1,400 checks and unemployment relief to ...\n",
              "29  Big news: Congress just passed President Biden...\n",
              "30  Hey, India. We’re rolling out our new fleet of...\n",
              "31  Proud of the program we have in India to hire ...\n",
              "32  Amazon partners with thousands of kirana store...\n",
              "33  Thank you to our customers who donated relief ...\n",
              "34  Nice! Amazon ranked #1 best managed company. D..."
            ]
          },
          "metadata": {
            "tags": []
          },
          "execution_count": 9
        }
      ]
    },
    {
      "cell_type": "code",
      "metadata": {
        "id": "52S4NyET1S0D"
      },
      "source": [
        "#data preparation\n",
        "data_nparray = np.array(data)\n",
        "data_array = []\n",
        "for tweet in data_nparray:\n",
        "  data_array.append(tweet[0])\n",
        "\n",
        "data_copy = data_array"
      ],
      "execution_count": 10,
      "outputs": []
    },
    {
      "cell_type": "code",
      "metadata": {
        "id": "Gz_1RrEW1xPO"
      },
      "source": [
        "final_data = []\n",
        "for tweet in data_array:\n",
        "  tweet = tweet.replace(\"@\",\"\")\n",
        "  tweet = tweet.replace('\"',\"\")\n",
        "  tweet = tweet.replace(\"\\n\",\"\")\n",
        "  tweet = tweet.replace(\"#\",\"\")\n",
        "  tweet = tweet.replace(\":\",\"\")\n",
        "  tweet = tweet.replace(\"...\",\"\")\n",
        "  \n",
        "  final_data.append(tweet)"
      ],
      "execution_count": 23,
      "outputs": []
    },
    {
      "cell_type": "code",
      "metadata": {
        "id": "6MTWRbDD3GzL"
      },
      "source": [
        "#embedding data\n",
        "emb_model = hub.load(\"https://tfhub.dev/google/universal-sentence-encoder/4\")"
      ],
      "execution_count": 12,
      "outputs": []
    },
    {
      "cell_type": "code",
      "metadata": {
        "id": "UzRqvhC74ytN"
      },
      "source": [
        "embedded_final = emb_model(np.array(final_data))\n",
        "embedded_final\n",
        "\n",
        "pca = PCA(2)\n",
        "embedded_final_new = pca.fit_transform(embedded_final)"
      ],
      "execution_count": 13,
      "outputs": []
    },
    {
      "cell_type": "code",
      "metadata": {
        "id": "nEbs_YP55lR0"
      },
      "source": [
        "#clustering\n",
        "cluster_method = KMeans(3, random_state=1)\n",
        "\n",
        "final_clusters = cluster_method.fit_predict(embedded_final_new)\n",
        "final_clusters_unique = np.unique(final_clusters)\n",
        "\n",
        "labels = cluster_method.labels_"
      ],
      "execution_count": 14,
      "outputs": []
    },
    {
      "cell_type": "code",
      "metadata": {
        "colab": {
          "base_uri": "https://localhost:8080/",
          "height": 265
        },
        "id": "cqUa2fSe6Lhq",
        "outputId": "a859242e-c189-4421-c7d6-42211bbc5c26"
      },
      "source": [
        "for i in final_clusters_unique:\n",
        "  plt.scatter(embedded_final_new[final_clusters == i , 0] , embedded_final_new[final_clusters == i , 1] , label = i)\n",
        "  \n",
        "plt.legend()\n",
        "plt.show()"
      ],
      "execution_count": 15,
      "outputs": [
        {
          "output_type": "display_data",
          "data": {
            "image/png": "[encoded data removed]",
            "text/plain": [
              "<Figure size 432x288 with 1 Axes>"
            ]
          },
          "metadata": {
            "tags": [],
            "needs_background": "light"
          }
        }
      ]
    },
    {
      "cell_type": "code",
      "metadata": {
        "id": "S0i1wX-905UP"
      },
      "source": [
        "#preparation for TextRank Summarization\n",
        "final = []\n",
        "for tweet in final_data:\n",
        "  tweet = tweet.replace(\" \",\"\")\n",
        "  final.append(tweet)"
      ],
      "execution_count": null,
      "outputs": []
    },
    {
      "cell_type": "code",
      "metadata": {
        "id": "ONj1vApC2vxz"
      },
      "source": [
        "#TextRank implementation\n",
        "!pip install transformers\n",
        "!pip install sumy\n",
        "!pip install sentencepiece\n",
        "!pip install bert-extractive-summarizer \n",
        "from transformers import T5Tokenizer, T5ForConditionalGeneration\n",
        "import re\n",
        "from __future__ import absolute_import\n",
        "from __future__ import division, print_function, unicode_literals\n",
        "import math\n",
        "from sumy.summarizers import AbstractSummarizer\n",
        "import numpy"
      ],
      "execution_count": null,
      "outputs": []
    },
    {
      "cell_type": "code",
      "metadata": {
        "id": "5l9i1L734lfi"
      },
      "source": [
        "class TextRankSummarizer(AbstractSummarizer):\n",
        "  epsilon = 1e-4\n",
        "  damping = 0.85\n",
        "  _delta = 1e-7 \n",
        "  _stop_words = frozenset()\n",
        "\n",
        "  @property\n",
        "  def stop_words(self):\n",
        "    return self._stop_words\n",
        "\n",
        "  @stop_words.setter\n",
        "  def stop_words(self, words):\n",
        "    self._stop_words = frozenset(map(self.normalize_word, words))\n",
        "\n",
        "  @stop_words.setter\n",
        "  def stop_words(self, words):\n",
        "    self._stop_words = frozenset(map(self.normalize_word, words))\n",
        "\n",
        "  def __call__(self, document, sentences_count):\n",
        "    self._ensure_dependencies_installed()\n",
        "    if not document.sentences:\n",
        "      return ()\n",
        " \n",
        "    ratings = self.rate_sentences(document)\n",
        "    return self._get_best_sentences(document.sentences, sentences_count, ratings)\n",
        "\n",
        "  @staticmethod\n",
        "  def _ensure_dependencies_installed():\n",
        "    if numpy is None:\n",
        "      raise ValueError(\"LexRank summarizer requires NumPy. Please, install it by command 'pip install numpy'.\")\n",
        "\n",
        "\n",
        "  def _create_matrix(self, document):\n",
        "    sentences_as_words = [self._to_words_set(sent) for sent in document.sentences]\n",
        "    sentences_count = len(sentences_as_words)\n",
        "    weights = numpy.zeros((sentences_count, sentences_count))\n",
        "\n",
        "    for i, words_i in enumerate(sentences_as_words):\n",
        "      for j, words_j in enumerate(sentences_as_words):\n",
        "        weights[i, j] = self._rate_sentences_edge(words_i, words_j)\n",
        "\n",
        "    weights /= (weights.sum(axis=1)[:, numpy.newaxis]+self._delta) \n",
        "    return numpy.full((sentences_count, sentences_count), (1.-self.damping) / sentences_count) + self.damping * weights\n",
        "\n",
        "  def _to_words_set(self, sentence):\n",
        "    words = map(self.normalize_word, sentence.words)\n",
        "    return [self.stem_word(w) for w in words if w not in self._stop_words]\n",
        "\n",
        "  def rate_sentences(self, document):\n",
        "    matrix = self._create_matrix(document)\n",
        "    ranks = self.power_method(matrix, self.epsilon) \n",
        "    return {sent: rank for sent, rank in zip(document.sentences, ranks)}\n",
        "\n",
        "  @staticmethod\n",
        "  def power_method(matrix, epsilon):\n",
        "    transposed_matrix = matrix.T\n",
        "    sentences_count = len(matrix)\n",
        "    p_vector = numpy.array([1.0 / sentences_count] * sentences_count)\n",
        "    lambda_val = 1.0\n",
        "\n",
        "    while lambda_val > epsilon:\n",
        "      next_p = numpy.dot(transposed_matrix, p_vector)\n",
        "      lambda_val = numpy.linalg.norm(numpy.subtract(next_p, p_vector))\n",
        "      p_vector = next_p\n",
        "\n",
        "    return p_vector\n",
        "\n",
        "  @staticmethod\n",
        "  def _rate_sentences_edge(words1, words2):\n",
        "    rank = 0\n",
        "    for w1 in words1:\n",
        "      for w2 in words2:\n",
        "        rank += int(w1 == w2)\n",
        "\n",
        "      if rank == 0:\n",
        "        return 0.0\n",
        "\n",
        "      assert len(words1) > 0 and len(words2) > 0\n",
        "      norm = math.log(len(words1)) + math.log(len(words2))\n",
        "      if numpy.isclose(norm, 0.):\n",
        "            # This should only happen when words1 and words2 only have a single word. Thus, rank can only be 0 or 1.\n",
        "        assert rank in (0, 1)\n",
        "        return rank * 1.0\n",
        "      else:\n",
        "        return rank / norm"
      ],
      "execution_count": 73,
      "outputs": []
    },
    {
      "cell_type": "code",
      "metadata": {
        "colab": {
          "base_uri": "https://localhost:8080/"
        },
        "id": "ai269Wpw8a2G",
        "outputId": "d25481d8-2d31-489e-8d01-128f986de00f"
      },
      "source": [
        "model = TextRankSummarizer()\n",
        "\n",
        "words1 = final_data[11].split(\" \")\n",
        "words2 = final_data[11].split(\" \")\n",
        "\n",
        "model._rate_sentences_edge(words1, words2)"
      ],
      "execution_count": 85,
      "outputs": [
        {
          "output_type": "execute_result",
          "data": {
            "text/plain": [
              "0.25694917118487537"
            ]
          },
          "metadata": {
            "tags": []
          },
          "execution_count": 85
        }
      ]
    }
  ]
}